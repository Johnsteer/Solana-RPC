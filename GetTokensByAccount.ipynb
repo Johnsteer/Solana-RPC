{
 "cells": [
  {
   "cell_type": "markdown",
   "metadata": {},
   "source": [
    "## Imports"
   ]
  },
  {
   "cell_type": "code",
   "execution_count": 1,
   "metadata": {},
   "outputs": [],
   "source": [
    "import json\n",
    "import solana\n",
    "import solders\n",
    "from config import RPC\n",
    "from solana.rpc.api import Client\n",
    "from solana.rpc.types import TokenAccountOpts, TxOpts"
   ]
  },
  {
   "cell_type": "markdown",
   "metadata": {},
   "source": [
    "## Constants"
   ]
  },
  {
   "cell_type": "code",
   "execution_count": 2,
   "metadata": {},
   "outputs": [],
   "source": [
    "WALLET = solders.pubkey.Pubkey.from_string(\"EaAbi87D6BPcCBumKg1r1jadHbhhsWU3H2UE9JBmD66w\")\n",
    "TOKEN_ID = solders.pubkey.Pubkey.from_string(\"TokenkegQfeZyiNwAJbNbGKPFXCWuBvf9Ss623VQ5DA\")"
   ]
  },
  {
   "cell_type": "markdown",
   "metadata": {},
   "source": [
    "## Solana JSON API Call via RPC"
   ]
  },
  {
   "cell_type": "code",
   "execution_count": 3,
   "metadata": {},
   "outputs": [],
   "source": [
    "\n",
    "http_client = Client(RPC)\n",
    "response = json.loads(http_client.get_account_info_json_parsed(WALLET).to_json())\n",
    "account_info = response[\"result\"][\"value\"]"
   ]
  },
  {
   "cell_type": "code",
   "execution_count": 4,
   "metadata": {},
   "outputs": [
    {
     "data": {
      "text/plain": [
       "{'lamports': 78689513,\n",
       " 'data': ['', 'base64'],\n",
       " 'owner': '11111111111111111111111111111111',\n",
       " 'executable': False,\n",
       " 'rentEpoch': 18446744073709551615,\n",
       " 'space': None}"
      ]
     },
     "execution_count": 4,
     "metadata": {},
     "output_type": "execute_result"
    }
   ],
   "source": [
    "account_info"
   ]
  }
 ],
 "metadata": {
  "kernelspec": {
   "display_name": "Python 3",
   "language": "python",
   "name": "python3"
  },
  "language_info": {
   "codemirror_mode": {
    "name": "ipython",
    "version": 3
   },
   "file_extension": ".py",
   "mimetype": "text/x-python",
   "name": "python",
   "nbconvert_exporter": "python",
   "pygments_lexer": "ipython3",
   "version": "3.7.0"
  }
 },
 "nbformat": 4,
 "nbformat_minor": 2
}
