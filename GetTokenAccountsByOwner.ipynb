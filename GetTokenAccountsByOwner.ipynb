{
 "cells": [
  {
   "cell_type": "markdown",
   "metadata": {},
   "source": [
    "## Imports"
   ]
  },
  {
   "cell_type": "code",
   "execution_count": 15,
   "metadata": {},
   "outputs": [],
   "source": [
    "import json\n",
    "import solana\n",
    "import solders\n",
    "from config import RPC\n",
    "from solana.rpc.api import Client\n",
    "from solana.rpc.types import TokenAccountOpts, TxOpts\n",
    "import pandas as pd"
   ]
  },
  {
   "cell_type": "markdown",
   "metadata": {},
   "source": [
    "## Constants"
   ]
  },
  {
   "cell_type": "code",
   "execution_count": 16,
   "metadata": {},
   "outputs": [],
   "source": [
    "WALLET = solders.pubkey.Pubkey.from_string(\"EaAbi87D6BPcCBumKg1r1jadHbhhsWU3H2UE9JBmD66w\")\n",
    "TOKEN_ID = solders.pubkey.Pubkey.from_string(\"TokenkegQfeZyiNwAJbNbGKPFXCWuBvf9Ss623VQ5DA\")"
   ]
  },
  {
   "cell_type": "markdown",
   "metadata": {},
   "source": [
    "## Solana JSON API Call via RPC"
   ]
  },
  {
   "cell_type": "code",
   "execution_count": 17,
   "metadata": {},
   "outputs": [],
   "source": [
    "\n",
    "http_client = Client(RPC)\n",
    "response = json.loads(http_client.get_token_accounts_by_owner_json_parsed(\n",
    "    owner = WALLET,\n",
    "    opts = TokenAccountOpts(program_id=TOKEN_ID)\n",
    ").to_json())\n"
   ]
  },
  {
   "cell_type": "code",
   "execution_count": 18,
   "metadata": {},
   "outputs": [],
   "source": [
    "token_accounts = response[\"result\"][\"value\"]"
   ]
  },
  {
   "cell_type": "code",
   "execution_count": 19,
   "metadata": {},
   "outputs": [],
   "source": [
    "cols = [\"Wallet\",\"TokenAccount\",\"TokenMint\",\"TokenAmount\"]\n",
    "wallets = [x[\"account\"][\"data\"][\"parsed\"][\"info\"][\"owner\"] for x in token_accounts]\n",
    "token_account = [x[\"pubkey\"] for x in token_accounts]\n"
   ]
  },
  {
   "cell_type": "code",
   "execution_count": null,
   "metadata": {},
   "outputs": [],
   "source": []
  }
 ],
 "metadata": {
  "kernelspec": {
   "display_name": "venv",
   "language": "python",
   "name": "python3"
  },
  "language_info": {
   "codemirror_mode": {
    "name": "ipython",
    "version": 3
   },
   "file_extension": ".py",
   "mimetype": "text/x-python",
   "name": "python",
   "nbconvert_exporter": "python",
   "pygments_lexer": "ipython3",
   "version": "3.7.0"
  }
 },
 "nbformat": 4,
 "nbformat_minor": 2
}
