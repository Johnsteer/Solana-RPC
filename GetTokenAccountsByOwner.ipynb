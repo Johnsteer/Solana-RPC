{
 "cells": [
  {
   "cell_type": "markdown",
   "metadata": {},
   "source": [
    "## Imports"
   ]
  },
  {
   "cell_type": "code",
   "execution_count": 1,
   "metadata": {},
   "outputs": [],
   "source": [
    "import json\n",
    "import solana\n",
    "import solders\n",
    "from config import RPC\n",
    "from solana.rpc.api import Client\n",
    "from solana.rpc.types import TokenAccountOpts, TxOpts\n",
    "import pandas as pd"
   ]
  },
  {
   "cell_type": "markdown",
   "metadata": {},
   "source": [
    "## Constants"
   ]
  },
  {
   "cell_type": "code",
   "execution_count": 2,
   "metadata": {},
   "outputs": [],
   "source": [
    "WALLET = solders.pubkey.Pubkey.from_string(\"EaAbi87D6BPcCBumKg1r1jadHbhhsWU3H2UE9JBmD66w\")\n",
    "TOKEN_ID = solders.pubkey.Pubkey.from_string(\"TokenkegQfeZyiNwAJbNbGKPFXCWuBvf9Ss623VQ5DA\")"
   ]
  },
  {
   "cell_type": "markdown",
   "metadata": {},
   "source": [
    "## Solana JSON API Call via RPC\n",
    "\n",
    "In order to get a list of spl-tokens owned by a Solana account (wallet) we need the wallet's address and the program id of the Solana SPL-Token Program. This ID is static and belongs to a program account that owns all token accounts on Solana. Wallet accounts are mapped to an SPL token via these token accounts. \"Purchasing\" X amount of a token creates a new token account that stores the information of your position.\n",
    "\n",
    "The response will contain all of the token accounts related to the wallet address, as well as information of the underlying token such as its mint address."
   ]
  },
  {
   "cell_type": "code",
   "execution_count": 3,
   "metadata": {},
   "outputs": [],
   "source": [
    "\n",
    "http_client = Client(RPC)\n",
    "response = json.loads(http_client.get_token_accounts_by_owner_json_parsed(\n",
    "    owner = WALLET,\n",
    "    opts = TokenAccountOpts(program_id=TOKEN_ID)\n",
    ").to_json())\n"
   ]
  },
  {
   "cell_type": "markdown",
   "metadata": {},
   "source": [
    "## Parse Response"
   ]
  },
  {
   "cell_type": "code",
   "execution_count": 4,
   "metadata": {},
   "outputs": [],
   "source": [
    "token_accounts = response[\"result\"][\"value\"]"
   ]
  },
  {
   "cell_type": "markdown",
   "metadata": {},
   "source": [
    "## Create Dataframe"
   ]
  },
  {
   "cell_type": "code",
   "execution_count": 12,
   "metadata": {},
   "outputs": [],
   "source": [
    "df = pd.DataFrame()\n",
    "df[\"wallets\"] = [x[\"account\"][\"data\"][\"parsed\"][\"info\"][\"owner\"] for x in token_accounts]\n",
    "df[\"token_account\"] = [x[\"pubkey\"] for x in token_accounts]\n",
    "df[\"token_mint\"] = [x[\"account\"][\"data\"][\"parsed\"][\"info\"][\"mint\"] for x in token_accounts]\n",
    "df[\"token_amount\"] = [x[\"account\"][\"data\"][\"parsed\"][\"info\"][\"tokenAmount\"][\"amount\"] for x in token_accounts]"
   ]
  },
  {
   "cell_type": "code",
   "execution_count": 14,
   "metadata": {},
   "outputs": [
    {
     "data": {
      "text/html": [
       "<div>\n",
       "<style scoped>\n",
       "    .dataframe tbody tr th:only-of-type {\n",
       "        vertical-align: middle;\n",
       "    }\n",
       "\n",
       "    .dataframe tbody tr th {\n",
       "        vertical-align: top;\n",
       "    }\n",
       "\n",
       "    .dataframe thead th {\n",
       "        text-align: right;\n",
       "    }\n",
       "</style>\n",
       "<table border=\"1\" class=\"dataframe\">\n",
       "  <thead>\n",
       "    <tr style=\"text-align: right;\">\n",
       "      <th></th>\n",
       "      <th>wallets</th>\n",
       "      <th>token_account</th>\n",
       "      <th>token_mint</th>\n",
       "      <th>token_amount</th>\n",
       "    </tr>\n",
       "  </thead>\n",
       "  <tbody>\n",
       "    <tr>\n",
       "      <th>0</th>\n",
       "      <td>EaAbi87D6BPcCBumKg1r1jadHbhhsWU3H2UE9JBmD66w</td>\n",
       "      <td>4J9PEtQcU7eo1LKs9BJ88ESu4URa65e2dShR64BWk1sn</td>\n",
       "      <td>BqVHWpwUDgMik5gbTciFfozadpE2oZth5bxCDrgbDt52</td>\n",
       "      <td>0</td>\n",
       "    </tr>\n",
       "    <tr>\n",
       "      <th>1</th>\n",
       "      <td>EaAbi87D6BPcCBumKg1r1jadHbhhsWU3H2UE9JBmD66w</td>\n",
       "      <td>4ets77YtRPxhiK9h7CrXVFNfu6WQzCXrH8eVUokUKP6a</td>\n",
       "      <td>BULLj2nKswm59y2mxv9vXdeFcCzLgvvjePuxTv6uWTQf</td>\n",
       "      <td>346191303</td>\n",
       "    </tr>\n",
       "    <tr>\n",
       "      <th>2</th>\n",
       "      <td>EaAbi87D6BPcCBumKg1r1jadHbhhsWU3H2UE9JBmD66w</td>\n",
       "      <td>F9v7e7yu9h5roAzYxEEM2k8yyBqnzDGGDQz7BL5dMcK8</td>\n",
       "      <td>Fas3JKMGz7WcstyP6hi8hA1PB4yn99RQxFoMDWyyh2bW</td>\n",
       "      <td>6286596</td>\n",
       "    </tr>\n",
       "    <tr>\n",
       "      <th>3</th>\n",
       "      <td>EaAbi87D6BPcCBumKg1r1jadHbhhsWU3H2UE9JBmD66w</td>\n",
       "      <td>7kHmXRnCEMuWGoy9KC2LUdDkg4FAnUAEfMmBW8qmz8RE</td>\n",
       "      <td>3psH1Mj1f7yUfaD5gh6Zj7epE8hhrMkMETgv5TshQA4o</td>\n",
       "      <td>287685281086</td>\n",
       "    </tr>\n",
       "    <tr>\n",
       "      <th>4</th>\n",
       "      <td>EaAbi87D6BPcCBumKg1r1jadHbhhsWU3H2UE9JBmD66w</td>\n",
       "      <td>ALare4BCzCSHULkea2H2EKBMMCKXdscsDRz5GeS3wTZv</td>\n",
       "      <td>7vQdgLtR2Qo6MBotkKVmCKfw83fGZkFQLR3Cj6X3ZRF7</td>\n",
       "      <td>0</td>\n",
       "    </tr>\n",
       "  </tbody>\n",
       "</table>\n",
       "</div>"
      ],
      "text/plain": [
       "                                        wallets  \\\n",
       "0  EaAbi87D6BPcCBumKg1r1jadHbhhsWU3H2UE9JBmD66w   \n",
       "1  EaAbi87D6BPcCBumKg1r1jadHbhhsWU3H2UE9JBmD66w   \n",
       "2  EaAbi87D6BPcCBumKg1r1jadHbhhsWU3H2UE9JBmD66w   \n",
       "3  EaAbi87D6BPcCBumKg1r1jadHbhhsWU3H2UE9JBmD66w   \n",
       "4  EaAbi87D6BPcCBumKg1r1jadHbhhsWU3H2UE9JBmD66w   \n",
       "\n",
       "                                  token_account  \\\n",
       "0  4J9PEtQcU7eo1LKs9BJ88ESu4URa65e2dShR64BWk1sn   \n",
       "1  4ets77YtRPxhiK9h7CrXVFNfu6WQzCXrH8eVUokUKP6a   \n",
       "2  F9v7e7yu9h5roAzYxEEM2k8yyBqnzDGGDQz7BL5dMcK8   \n",
       "3  7kHmXRnCEMuWGoy9KC2LUdDkg4FAnUAEfMmBW8qmz8RE   \n",
       "4  ALare4BCzCSHULkea2H2EKBMMCKXdscsDRz5GeS3wTZv   \n",
       "\n",
       "                                     token_mint  token_amount  \n",
       "0  BqVHWpwUDgMik5gbTciFfozadpE2oZth5bxCDrgbDt52             0  \n",
       "1  BULLj2nKswm59y2mxv9vXdeFcCzLgvvjePuxTv6uWTQf     346191303  \n",
       "2  Fas3JKMGz7WcstyP6hi8hA1PB4yn99RQxFoMDWyyh2bW       6286596  \n",
       "3  3psH1Mj1f7yUfaD5gh6Zj7epE8hhrMkMETgv5TshQA4o  287685281086  \n",
       "4  7vQdgLtR2Qo6MBotkKVmCKfw83fGZkFQLR3Cj6X3ZRF7             0  "
      ]
     },
     "execution_count": 14,
     "metadata": {},
     "output_type": "execute_result"
    }
   ],
   "source": [
    "df.head()"
   ]
  }
 ],
 "metadata": {
  "kernelspec": {
   "display_name": "venv",
   "language": "python",
   "name": "python3"
  },
  "language_info": {
   "codemirror_mode": {
    "name": "ipython",
    "version": 3
   },
   "file_extension": ".py",
   "mimetype": "text/x-python",
   "name": "python",
   "nbconvert_exporter": "python",
   "pygments_lexer": "ipython3",
   "version": "3.7.0"
  }
 },
 "nbformat": 4,
 "nbformat_minor": 2
}
